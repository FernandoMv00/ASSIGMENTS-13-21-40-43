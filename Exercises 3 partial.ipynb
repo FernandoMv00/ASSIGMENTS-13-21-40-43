{
 "cells": [
  {
   "cell_type": "markdown",
   "metadata": {},
   "source": [
    "<font color=\"red\"> <H1> Exercises </H1> </font>\n",
    "\n",
    "<font color=\"blue\"><H2> Students:</H2> </font> <br/>\n",
    "-Cruz Santiago Cesar Alejandro <br/>\n",
    "-Martinez Vega Fernando <br/>\n",
    "-Salas Colis Carlos Enrique <br/>\n"
   ]
  },
  {
   "cell_type": "markdown",
   "metadata": {},
   "source": [
    "<H2> Exercise 13"
   ]
  },
  {
   "cell_type": "markdown",
   "metadata": {},
   "source": [
    "The argv is the ”argument variable,” a very standard name in programming that you will find used in\n",
    "many other languages."
   ]
  },
  {
   "cell_type": "code",
   "execution_count": 4,
   "metadata": {},
   "outputs": [
    {
     "name": "stdout",
     "output_type": "stream",
     "text": [
      "The script is called: C:\\ProgramData\\Anaconda3\\lib\\site-packages\\ipykernel_launcher.py\n",
      "Your first variable is: -f\n",
      "Your third variable is: C:\\Users\\carlo\\AppData\\Roaming\\jupyter\\runtime\\kernel-8b2612c6-bc82-4fdc-b1a7-7c30df1e3d5b.json\n"
     ]
    }
   ],
   "source": [
    "from sys import argv\n",
    "# read the WYSS section for how to run this\n",
    "script, first, third = argv\n",
    "\n",
    "print(\"The script is called:\", script)\n",
    "print(\"Your first variable is:\", first)\n",
    "print(\"Your third variable is:\", third)\n"
   ]
  },
  {
   "cell_type": "markdown",
   "metadata": {},
   "source": [
    "<H2> Exercise 14"
   ]
  },
  {
   "cell_type": "markdown",
   "metadata": {},
   "source": [
    "In this exercise we’ll use input slightly differently by having it print a simple > prompt."
   ]
  },
  {
   "cell_type": "code",
   "execution_count": 1,
   "metadata": {},
   "outputs": [
    {
     "name": "stdout",
     "output_type": "stream",
     "text": [
      "Hi -f, I'm the C:\\ProgramData\\Anaconda3\\lib\\site-packages\\ipykernel_launcher.py script.\n",
      "I'd like to ask you a few questions.\n",
      "Do you like me -f?\n",
      "> no\n",
      "Where do you live -f?\n",
      "> manuel\n",
      "What kind of computer do you have?\n",
      "> msi\n",
      "\n",
      "Alright, so you said no about liking me.\n",
      "You live in manuel. Not sure where that is.\n",
      "And you have a msi computer. Nice.\n",
      "\n"
     ]
    }
   ],
   "source": [
    "from sys import argv\n",
    "\n",
    "script, user_name, carlos = argv\n",
    "prompt = '> '\n",
    "\n",
    "print(f\"Hi {user_name}, I'm the {script} script.\")\n",
    "print(\"I'd like to ask you a few questions.\")\n",
    "print(f\"Do you like me {user_name}?\")\n",
    "likes = input(prompt)\n",
    "\n",
    "print(f\"Where do you live {user_name}?\")\n",
    "lives = input(prompt)\n",
    "\n",
    "print(\"What kind of computer do you have?\")\n",
    "computer = input(prompt)\n",
    "\n",
    "print(f\"\"\"\n",
    "Alright, so you said {likes} about liking me.\n",
    "You live in {lives}. Not sure where that is.\n",
    "And you have a {computer} computer. Nice.\n",
    "\"\"\")\n",
    "\n",
    "\n",
    "\n"
   ]
  },
  {
   "cell_type": "markdown",
   "metadata": {},
   "source": [
    "<H2> Exercise 15"
   ]
  },
  {
   "cell_type": "markdown",
   "metadata": {},
   "source": [
    "What we want to do is ”open” that file in our script and print it out."
   ]
  },
  {
   "cell_type": "code",
   "execution_count": null,
   "metadata": {},
   "outputs": [
    {
     "name": "stdout",
     "output_type": "stream",
     "text": [
      "Here's your file C:\\Users\\carlo\\AppData\\Roaming\\jupyter\\runtime\\kernel-8e827dce-0031-4962-8279-78fbd3c4ac93.json:\n",
      "{\n",
      "  \"shell_port\": 55288,\n",
      "  \"iopub_port\": 55289,\n",
      "  \"stdin_port\": 55290,\n",
      "  \"control_port\": 55291,\n",
      "  \"hb_port\": 55292,\n",
      "  \"ip\": \"127.0.0.1\",\n",
      "  \"key\": \"0b9a8bc4-a79dcb32bd199c048c6a8df5\",\n",
      "  \"transport\": \"tcp\",\n",
      "  \"signature_scheme\": \"hmac-sha256\",\n",
      "  \"kernel_name\": \"\"\n",
      "}\n",
      "Type the filename again:\n"
     ]
    }
   ],
   "source": [
    "from sys import argv\n",
    "\n",
    "script, vigil, filename= argv\n",
    "\n",
    "txt = open(filename)\n",
    "\n",
    "print(f\"Here's your file {filename}:\")\n",
    "print(txt.read())\n",
    "\n",
    "print(\"Type the filename again:\")\n",
    "file_again = input(\"> \")\n",
    "\n",
    "txt_again = open(file_again)\n",
    "\n",
    "print(txt_again.read())"
   ]
  },
  {
   "cell_type": "markdown",
   "metadata": {},
   "source": [
    "<H2> Exercise 16"
   ]
  },
  {
   "cell_type": "code",
   "execution_count": null,
   "metadata": {},
   "outputs": [
    {
     "name": "stdout",
     "output_type": "stream",
     "text": [
      "We're going to erase C:\\Users\\carlo\\AppData\\Roaming\\jupyter\\runtime\\kernel-3b042dc8-18dc-47d5-8d97-579c327ff683.json.\n",
      "If you don't want that, hit CTRL-C (^C).\n",
      "If you do want that, hit RETURN.\n"
     ]
    }
   ],
   "source": [
    "from sys import argv\n",
    "\n",
    "script, vigil, filename = argv\n",
    "\n",
    "print(f\"We're going to erase {filename}.\")\n",
    "print(\"If you don't want that, hit CTRL-C (^C).\")\n",
    "print(\"If you do want that, hit RETURN.\")\n",
    "\n",
    "input(\"?\")\n",
    "\n",
    "print(\"Opening the file...\")\n",
    "target = open(filename, 'w')\n",
    "\n",
    "print(\"Truncating the file. Goodbye!\")\n",
    "target.truncate()\n",
    "\n",
    "print(\"Now I'm going to ask you for three lines.\")\n",
    "\n",
    "line1 = input(\"line 1: \")\n",
    "line2 = input(\"line 2: \")\n",
    "line3 = input(\"line 3: \")\n",
    "\n",
    "print(\"I'm going to write these to the file.\")\n",
    "\n",
    "target.write(line1)\n",
    "target.write(\"\\n\")\n",
    "target.write(line2)\n",
    "target.write(\"\\n\")\n",
    "target.write(line3)\n",
    "target.write(\"\\n\")\n",
    "\n",
    "print(\"And finally, we close it.\")\n",
    "target.close()"
   ]
  },
  {
   "cell_type": "markdown",
   "metadata": {},
   "source": [
    "<H2> Exercise 17"
   ]
  },
  {
   "cell_type": "markdown",
   "metadata": {},
   "source": [
    "In this exercise we will see the library \"exist\" this help us to see if a file exists. if the file exist the command will put \"TRUE\" if not the answer will be \"FALSE\"."
   ]
  },
  {
   "cell_type": "code",
   "execution_count": 1,
   "metadata": {},
   "outputs": [
    {
     "name": "stdout",
     "output_type": "stream",
     "text": [
      "Copying from -f to C:\\Users\\carlo\\AppData\\Roaming\\jupyter\\runtime\\kernel-b53c13dd-09dc-407e-b097-8cbe29c70c75.json\n"
     ]
    },
    {
     "ename": "FileNotFoundError",
     "evalue": "[Errno 2] No such file or directory: '-f'",
     "output_type": "error",
     "traceback": [
      "\u001b[1;31m---------------------------------------------------------------------------\u001b[0m",
      "\u001b[1;31mFileNotFoundError\u001b[0m                         Traceback (most recent call last)",
      "\u001b[1;32m<ipython-input-1-cd6de3f8d9ed>\u001b[0m in \u001b[0;36m<module>\u001b[1;34m\u001b[0m\n\u001b[0;32m      5\u001b[0m \u001b[0mprint\u001b[0m\u001b[1;33m(\u001b[0m\u001b[1;34mf\"Copying from {from_file} to {to_file}\"\u001b[0m\u001b[1;33m)\u001b[0m\u001b[1;33m\u001b[0m\u001b[1;33m\u001b[0m\u001b[0m\n\u001b[0;32m      6\u001b[0m \u001b[1;33m\u001b[0m\u001b[0m\n\u001b[1;32m----> 7\u001b[1;33m \u001b[0min_file\u001b[0m \u001b[1;33m=\u001b[0m \u001b[0mopen\u001b[0m\u001b[1;33m(\u001b[0m\u001b[0mfrom_file\u001b[0m\u001b[1;33m)\u001b[0m\u001b[1;33m\u001b[0m\u001b[1;33m\u001b[0m\u001b[0m\n\u001b[0m\u001b[0;32m      8\u001b[0m \u001b[0mindata\u001b[0m \u001b[1;33m=\u001b[0m \u001b[0min_file\u001b[0m\u001b[1;33m.\u001b[0m\u001b[0mread\u001b[0m\u001b[1;33m(\u001b[0m\u001b[1;33m)\u001b[0m\u001b[1;33m\u001b[0m\u001b[1;33m\u001b[0m\u001b[0m\n\u001b[0;32m      9\u001b[0m \u001b[1;33m\u001b[0m\u001b[0m\n",
      "\u001b[1;31mFileNotFoundError\u001b[0m: [Errno 2] No such file or directory: '-f'"
     ]
    }
   ],
   "source": [
    "from sys import argv\n",
    "from os.path import exists\n",
    "\n",
    "script, from_file, to_file=argv\n",
    "print(f\"Copying from {from_file} to {to_file}\")\n",
    "\n",
    "in_file = open(from_file)\n",
    "indata = in_file.read()\n",
    "\n",
    "print(f\"The input file is {len(indata)} bytes long\")\n",
    "\n",
    "print(f\"Does the input file existe?{exists(to_file)}\")\n",
    "print(\"Ready, hit RETURN to continue, CTRL-C to abort.\")\n",
    "input()\n",
    "\n",
    "out_file=open(to_file,'w')\n",
    "out_file.write(indata)\n",
    "\n",
    "print(\"Alright, all done\")\n",
    "\n",
    "out_file.close()\n",
    "in_file.close()"
   ]
  },
  {
   "cell_type": "markdown",
   "metadata": {},
   "source": [
    "### EXERCISE 18"
   ]
  },
  {
   "cell_type": "markdown",
   "metadata": {},
   "source": [
    "In this exercise we will see the command \"DEF\" this help us to create user-defined functions objects."
   ]
  },
  {
   "cell_type": "code",
   "execution_count": 2,
   "metadata": {},
   "outputs": [
    {
     "name": "stdout",
     "output_type": "stream",
     "text": [
      "arg1:FERNANDO, arg2: MARTINEZ\n",
      "arg1: FERNANDO, arg2: MARTINEZ\n",
      "arg1: FIRST!\n",
      "I got nothin'.\n"
     ]
    }
   ],
   "source": [
    "def print_two(*args):\n",
    "    arg1,arg2 = args\n",
    "    print(f\"arg1:{arg1}, arg2: {arg2}\")\n",
    "    \n",
    "def print_two_again(arg1, arg2):\n",
    "    print(f\"arg1: {arg1}, arg2: {arg2}\")\n",
    "    \n",
    "def print_one(arg1):\n",
    "    print(f\"arg1: {arg1}\")\n",
    "    \n",
    "def print_none():\n",
    "    print(\"I got nothin'.\")\n",
    "    \n",
    "print_two(\"FERNANDO\",\"MARTINEZ\")\n",
    "print_two_again(\"FERNANDO\",\"MARTINEZ\")\n",
    "print_one(\"FIRST!\")\n",
    "print_none()"
   ]
  },
  {
   "cell_type": "markdown",
   "metadata": {},
   "source": [
    "### EXERCISE 19"
   ]
  },
  {
   "cell_type": "markdown",
   "metadata": {},
   "source": [
    "We will see the many combinations that we can give to the funcion \"cheese_and_crackers\" using functions and variables."
   ]
  },
  {
   "cell_type": "code",
   "execution_count": 3,
   "metadata": {},
   "outputs": [
    {
     "name": "stdout",
     "output_type": "stream",
     "text": [
      "we can just give the function numbers directly: \n",
      "you have 30 cheeses! \n",
      "you have 40 boxes of crackers!\n",
      "Man that's enough for a party!\n",
      "get a blanket. \n",
      "\n",
      "OR, we can use variables rom our script: \n",
      "you have 20 cheeses! \n",
      "you have 60 boxes of crackers!\n",
      "Man that's enough for a party!\n",
      "get a blanket. \n",
      "\n",
      "We can even do math inside too: \n",
      "you have 50 cheeses! \n",
      "you have 22 boxes of crackers!\n",
      "Man that's enough for a party!\n",
      "get a blanket. \n",
      "\n",
      "and we can combine the two, variables and math: \n",
      "you have 220 cheeses! \n",
      "you have 2060 boxes of crackers!\n",
      "Man that's enough for a party!\n",
      "get a blanket. \n",
      "\n"
     ]
    }
   ],
   "source": [
    "def cheese_and_crackers(cheese_count, boxes_of_crackers):\n",
    "    print(f\"you have {cheese_count} cheeses! \")\n",
    "    print(f\"you have {boxes_of_crackers} boxes of crackers!\")\n",
    "    print(\"Man that's enough for a party!\")\n",
    "    print(\"get a blanket. \\n\")\n",
    "    \n",
    "print(\"we can just give the function numbers directly: \")\n",
    "cheese_and_crackers(30, 40)\n",
    "\n",
    "print(\"OR, we can use variables rom our script: \")\n",
    "amount_of_cheese =20\n",
    "amount_of_crackers= 60\n",
    "\n",
    "cheese_and_crackers(amount_of_cheese, amount_of_crackers)\n",
    "\n",
    "print(\"We can even do math inside too: \")\n",
    "cheese_and_crackers (20+30, 10+12)\n",
    "\n",
    "print(\"and we can combine the two, variables and math: \")\n",
    "cheese_and_crackers(amount_of_cheese + 200, amount_of_crackers + 2000)"
   ]
  },
  {
   "cell_type": "markdown",
   "metadata": {},
   "source": [
    "### EXERCISE 20"
   ]
  },
  {
   "cell_type": "markdown",
   "metadata": {},
   "source": [
    "This exercise will help us to view how the checklist for functions works with functions and files."
   ]
  },
  {
   "cell_type": "code",
   "execution_count": 4,
   "metadata": {},
   "outputs": [
    {
     "name": "stdout",
     "output_type": "stream",
     "text": [
      "First let's print the whole file:\n",
      "\n",
      "{\n",
      "  \"shell_port\": 55721,\n",
      "  \"iopub_port\": 55722,\n",
      "  \"stdin_port\": 55723,\n",
      "  \"control_port\": 55724,\n",
      "  \"hb_port\": 55725,\n",
      "  \"ip\": \"127.0.0.1\",\n",
      "  \"key\": \"7897b7ee-45ffe0102663c1f0f318e132\",\n",
      "  \"transport\": \"tcp\",\n",
      "  \"signature_scheme\": \"hmac-sha256\",\n",
      "  \"kernel_name\": \"\"\n",
      "}\n",
      "Now let's rewind, kind of like a tape. \n",
      "let's print three lines: \n",
      "1 {\n",
      "\n",
      "2   \"shell_port\": 55721,\n",
      "\n",
      "3   \"iopub_port\": 55722,\n",
      "\n"
     ]
    }
   ],
   "source": [
    "from sys import argv\n",
    "\n",
    "script, input_file, fernando= argv\n",
    "\n",
    "def print_all(f):\n",
    "    print(f.read())\n",
    "    \n",
    "def rewind(f):\n",
    "    f.seek(0)\n",
    "    \n",
    "def print_a_line(line_count, f):\n",
    "    print(line_count, f.readline())\n",
    "    \n",
    "current_file = open(fernando)\n",
    "\n",
    "print(\"First let's print the whole file:\\n\")\n",
    "\n",
    "print_all(current_file)\n",
    "\n",
    "print(\"Now let's rewind, kind of like a tape. \")\n",
    "\n",
    "rewind(current_file)\n",
    "\n",
    "print(\"let's print three lines: \")\n",
    " \n",
    "current_line = 1\n",
    "print_a_line(current_line, current_file)\n",
    "\n",
    "current_line = current_line +1\n",
    "print_a_line(current_line,current_file)\n",
    "\n",
    "current_line= current_line + 1\n",
    "print_a_line(current_line, current_file)"
   ]
  },
  {
   "cell_type": "markdown",
   "metadata": {},
   "source": [
    "## EXERCISE 21"
   ]
  },
  {
   "cell_type": "markdown",
   "metadata": {},
   "source": [
    "In this exercise we will see the command \"RETURN\" and \"DEF\", how its name indicates return to the begining of the function. "
   ]
  },
  {
   "cell_type": "code",
   "execution_count": 5,
   "metadata": {},
   "outputs": [
    {
     "name": "stdout",
     "output_type": "stream",
     "text": [
      "Lets do some math with just functions!! \n",
      "ADDING 30-5\n",
      "SUBSTRACTING 78-4\n",
      "MULTIPLYING 90*2\n",
      "DIVIDING 100/2\n",
      "data: 35, height: 74, weight: 180. chair: 50.0\n",
      "here is a puzzle\n",
      "DIVIDING 50.0/2\n",
      "MULTIPLYING 180*25.0\n",
      "SUBSTRACTING 74-4500.0\n",
      "ADDING 35--4426.0\n",
      "That becomes:  -4391.0 can you do it by hand?\n"
     ]
    }
   ],
   "source": [
    "def add(a, b):  \n",
    "    print(f\"ADDING {a}-{b}\")\n",
    "    return a + b  #The functions can communicate with the outside of them, to the main process of the program using the return statement\n",
    "def substract(a, b):        \n",
    "    print(f\"SUBSTRACTING {a}-{b}\")\n",
    "    return a - b\n",
    "def multiply(a, b):\n",
    "    print(f\"MULTIPLYING {a}*{b}\")\n",
    "    return a * b\n",
    "def divide(a, b):\n",
    "    print(f\"DIVIDING {a}/{b}\")\n",
    "    return a / b\n",
    "print(\"Lets do some math with just functions!! \")\n",
    "\n",
    "data=add(30, 5)\n",
    "height=substract(78,4)\n",
    "weight=multiply(90,2)\n",
    "chair=divide(100, 2)\n",
    "\n",
    "print(f\"data: {data}, height: {height}, weight: {weight}. chair: {chair}\")\n",
    "\n",
    "print(\"here is a puzzle\")\n",
    "\n",
    "what=add(data,substract(height,multiply(weight,divide(chair,2))))\n",
    "\n",
    "print(\"That becomes: \", what, \"can you do it by hand?\")"
   ]
  },
  {
   "cell_type": "markdown",
   "metadata": {},
   "source": [
    "<H2> Exercise 40\n",
    "\n"
   ]
  },
  {
   "cell_type": "markdown",
   "metadata": {},
   "source": [
    "It is the use of what can be called a sub-module. This was also one of the types of possible ways to calculate a specific case. For this, one of the class type syntaxes. I didn't know how to solve the error. I continued as was the exercise but I could never make it work. The main error is that the argument is not found."
   ]
  },
  {
   "cell_type": "code",
   "execution_count": 6,
   "metadata": {},
   "outputs": [
    {
     "ename": "TypeError",
     "evalue": "juego() takes no arguments",
     "output_type": "error",
     "traceback": [
      "\u001b[1;31m---------------------------------------------------------------------------\u001b[0m",
      "\u001b[1;31mTypeError\u001b[0m                                 Traceback (most recent call last)",
      "\u001b[1;32m<ipython-input-6-00cd980d9175>\u001b[0m in \u001b[0;36m<module>\u001b[1;34m\u001b[0m\n\u001b[0;32m      9\u001b[0m \u001b[1;33m\u001b[0m\u001b[0m\n\u001b[0;32m     10\u001b[0m master_chief = juego([\"Necesito un arma\",\n\u001b[1;32m---> 11\u001b[1;33m                       \"diselo al covenant\"])\n\u001b[0m\u001b[0;32m     12\u001b[0m \u001b[1;33m\u001b[0m\u001b[0m\n\u001b[0;32m     13\u001b[0m \u001b[0mmaster_chief\u001b[0m\u001b[1;33m.\u001b[0m\u001b[0msay_me_a_character\u001b[0m\u001b[1;33m(\u001b[0m\u001b[1;33m)\u001b[0m\u001b[1;33m\u001b[0m\u001b[1;33m\u001b[0m\u001b[0m\n",
      "\u001b[1;31mTypeError\u001b[0m: juego() takes no arguments"
     ]
    }
   ],
   "source": [
    "class juego(object):\n",
    "    def _init_(self, phrase):\n",
    "        self.phrase = phrase\n",
    "        \n",
    "    def say_me_a_character(self):\n",
    "        for line in self. phrase:\n",
    "            print(line)\n",
    "            \n",
    "            \n",
    "master_chief = juego([\"Necesito un arma\",\n",
    "                      \"diselo al covenant\"])\n",
    "\n",
    "master_chief.say_me_a_character()\n",
    "\n",
    "print(master_chief.phrase)\n"
   ]
  },
  {
   "cell_type": "code",
   "execution_count": null,
   "metadata": {},
   "outputs": [],
   "source": []
  }
 ],
 "metadata": {
  "kernelspec": {
   "display_name": "Python 3",
   "language": "python",
   "name": "python3"
  },
  "language_info": {
   "codemirror_mode": {
    "name": "ipython",
    "version": 3
   },
   "file_extension": ".py",
   "mimetype": "text/x-python",
   "name": "python",
   "nbconvert_exporter": "python",
   "pygments_lexer": "ipython3",
   "version": "3.7.4"
  }
 },
 "nbformat": 4,
 "nbformat_minor": 2
}
